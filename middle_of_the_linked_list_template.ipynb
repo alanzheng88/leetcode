{
 "cells": [
  {
   "cell_type": "code",
   "execution_count": 1,
   "metadata": {},
   "outputs": [],
   "source": [
    "from typing import Optional\n",
    "import math\n",
    "\n",
    "class ListNode:\n",
    "    def __init__(self, val=0, next=None):\n",
    "        self.val = val\n",
    "        self.next = next\n",
    "\n",
    "    @staticmethod\n",
    "    def create(nodes = []):\n",
    "        root = ListNode()\n",
    "        current = root\n",
    "        for l in nodes:\n",
    "            new_node = ListNode()\n",
    "            new_node.val = l\n",
    "            current.next = new_node\n",
    "            current = new_node\n",
    "        return root.next\n",
    "\n",
    "class Solution:\n",
    "    def middleNode(self, head: Optional[ListNode]) -> Optional[ListNode]:\n",
    "        pass\n",
    "\n",
    "# a = ListNode.create([12,14,22])\n",
    "\n"
   ]
  },
  {
   "cell_type": "code",
   "execution_count": 2,
   "metadata": {},
   "outputs": [
    {
     "name": "stderr",
     "output_type": "stream",
     "text": [
      "test_case1 (__main__.TestNotebook.test_case1) ... FAIL\n",
      "test_case2 (__main__.TestNotebook.test_case2) ... FAIL\n",
      "test_case3 (__main__.TestNotebook.test_case3) ... ok\n",
      "test_case4 (__main__.TestNotebook.test_case4) ... ok\n",
      "\n",
      "======================================================================\n",
      "FAIL: test_case1 (__main__.TestNotebook.test_case1)\n",
      "----------------------------------------------------------------------\n",
      "Traceback (most recent call last):\n",
      "  File \"/var/folders/6d/4f0wz_2x6m5cf2lr2n87tqsm0000gn/T/ipykernel_4265/3248623133.py\", line 13, in test_case1\n",
      "    self.assertEqual(\n",
      "AssertionError: None != 3\n",
      "\n",
      "======================================================================\n",
      "FAIL: test_case2 (__main__.TestNotebook.test_case2)\n",
      "----------------------------------------------------------------------\n",
      "Traceback (most recent call last):\n",
      "  File \"/var/folders/6d/4f0wz_2x6m5cf2lr2n87tqsm0000gn/T/ipykernel_4265/3248623133.py\", line 21, in test_case2\n",
      "    self.assertEqual(\n",
      "AssertionError: None != 4\n",
      "\n",
      "----------------------------------------------------------------------\n",
      "Ran 4 tests in 0.008s\n",
      "\n",
      "FAILED (failures=2)\n"
     ]
    },
    {
     "data": {
      "text/plain": [
       "<unittest.main.TestProgram at 0x103f67010>"
      ]
     },
     "execution_count": 2,
     "metadata": {},
     "output_type": "execute_result"
    }
   ],
   "source": [
    "import unittest\n",
    "\n",
    "class TestNotebook(unittest.TestCase):\n",
    "    def __init__(self, *args, **kwargs):\n",
    "        super(TestNotebook, self).__init__(*args, **kwargs)\n",
    "        self.solution = Solution()\n",
    "        self.get_result = self.solution.middleNode\n",
    "        self.proxy_create = ListNode.create\n",
    "\n",
    "    def test_case1(self):\n",
    "        actual = self.get_result(self.proxy_create([1,2,3,4,5])).val\n",
    "        expected = 3\n",
    "        self.assertEqual(\n",
    "            actual,\n",
    "            expected\n",
    "        )\n",
    "\n",
    "    def test_case2(self):\n",
    "        actual = self.get_result(self.proxy_create([1,2,3,4,5,6])).val\n",
    "        expected = 4\n",
    "        self.assertEqual(\n",
    "            actual,\n",
    "            expected\n",
    "        )\n",
    "\n",
    "    def test_case3(self):\n",
    "        pass\n",
    "\n",
    "    def test_case4(self):\n",
    "        pass\n",
    "\n",
    "unittest.main(argv=[''], verbosity=2, exit=False)"
   ]
  }
 ],
 "metadata": {
  "kernelspec": {
   "display_name": "leetcode-sYi8KRTR",
   "language": "python",
   "name": "python3"
  },
  "language_info": {
   "codemirror_mode": {
    "name": "ipython",
    "version": 3
   },
   "file_extension": ".py",
   "mimetype": "text/x-python",
   "name": "python",
   "nbconvert_exporter": "python",
   "pygments_lexer": "ipython3",
   "version": "3.11.4"
  }
 },
 "nbformat": 4,
 "nbformat_minor": 2
}
