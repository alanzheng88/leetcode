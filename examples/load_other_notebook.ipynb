{
 "cells": [
  {
   "cell_type": "code",
   "execution_count": null,
   "metadata": {},
   "outputs": [],
   "source": [
    "import nbformat\n",
    "from IPython.display import display, Markdown\n",
    "\n",
    "# Load the other notebook\n",
    "other_notebook_file = 'richest_customer_wealth.ipynb'\n",
    "with open(other_notebook_file, 'r') as f:\n",
    "    other_notebook = nbformat.read(f, as_version=4)\n",
    "\n",
    "# Iterate through each cell in the other notebook\n",
    "for cell in other_notebook.cells:\n",
    "    # Check if the cell is a Markdown cell\n",
    "    if cell.cell_type == 'markdown':\n",
    "        # Display the Markdown content\n",
    "        display(Markdown(cell.source))\n"
   ]
  }
 ],
 "metadata": {
  "language_info": {
   "name": "python"
  }
 },
 "nbformat": 4,
 "nbformat_minor": 2
}
